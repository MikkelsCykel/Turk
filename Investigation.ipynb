{
 "cells": [
  {
   "cell_type": "code",
   "execution_count": 2,
   "metadata": {
    "collapsed": false
   },
   "outputs": [],
   "source": [
    "# -*- coding: utf-8 -*-\n",
    "%matplotlib inline\n",
    "from __future__ import division\n",
    "import MySQLdb\n",
    "from IPython.display import Image\n",
    "from IPython.core.display import HTML \n",
    "from nltk.tokenize import word_tokenize\n",
    "from nltk.corpus import stopwords\n",
    "from nltk.stem import WordNetLemmatizer\n",
    "from nltk.probability import FreqDist\n",
    "import matplotlib.pyplot as plt\n",
    "import matplotlib.mlab as mlab\n",
    "import math\n",
    "import numpy as np\n",
    "import scipy\n",
    "import scipy.stats\n",
    "from sklearn import linear_model\n",
    "\n",
    "stop_words = stopwords.words('english')"
   ]
  },
  {
   "cell_type": "markdown",
   "metadata": {},
   "source": [
    "# Database connection\n",
    "The database connection will be left open until end of september 2016"
   ]
  },
  {
   "cell_type": "code",
   "execution_count": 3,
   "metadata": {
    "collapsed": false
   },
   "outputs": [],
   "source": [
    "host = '52.58.176.49'\n",
    "key = 'SystemOfADown'\n",
    "user = 'dbuser'\n",
    "db = 'TURK'\n",
    "connection = MySQLdb.connect(host, user, key, db)"
   ]
  },
  {
   "cell_type": "code",
   "execution_count": 4,
   "metadata": {
    "collapsed": false
   },
   "outputs": [],
   "source": [
    "#id, ImgId, Appealing, Course, Free, IsGold, GoldValue, worker, Url\n",
    "def get_data():\n",
    "    query = 'SELECT hi.Hid, hi.ImgId, hi.Appealing, hi.Course,'\\\n",
    "                'hi.Free,'\\\n",
    "                'i.IsGold,'\\\n",
    "                'i.GoldValue,'\\\n",
    "                'i.Url,'\\\n",
    "                'h.WorkerId FROM HitImages hi '\\\n",
    "                'LEFT JOIN Images i ON hi.ImgId = i.ImgId '\\\n",
    "                'LEFT JOIN Hits h ON hi.Hid = h.Hid;'\n",
    "    cursor = connection.cursor( MySQLdb.cursors.DictCursor )\n",
    "    cursor.execute(query)\n",
    "    return format_response(cursor.fetchall())\n",
    "\n",
    "def get_data_v2():\n",
    "    query = 'SELECT hi.Hid, hi.ImgId, hi.Appealing, hi.Course,'\\\n",
    "                'hi.Free,'\\\n",
    "                'i.IsGold,'\\\n",
    "                'i.GoldValue,'\\\n",
    "                'i.Url,'\\\n",
    "                'h.WorkerId FROM HitImagesV2 hi '\\\n",
    "                'LEFT JOIN Images i ON hi.ImgId = i.ImgId '\\\n",
    "                'LEFT JOIN Hits h ON hi.Hid = h.Hid;'\n",
    "    cursor = connection.cursor( MySQLdb.cursors.DictCursor )\n",
    "    cursor.execute(query)\n",
    "    return format_response(cursor.fetchall())\n",
    "\n",
    "def get_gold_val(value):\n",
    "    if not value is None:\n",
    "        return int(value)\n",
    "    return 3\n",
    "\n",
    "def get_free_val(value):\n",
    "    return value.lower()\n",
    "\n",
    "def format_response(response):\n",
    "        return [{'Id': int(x['Hid']),\n",
    "                 'ImgId': int(x['ImgId']), \n",
    "                 'IsGold': int(x['IsGold']),\n",
    "                 'GoldValue': get_gold_val(x['GoldValue']),\n",
    "                 'Appealing': int(x['Appealing']),\n",
    "                 'Course': int(x['Course']),\n",
    "                 'Free': get_free_val(x['Free']),\n",
    "                 'WorkerId': x['WorkerId'],\n",
    "                 'Url': x['Url']} for x in response ]\n",
    "\n",
    "X = get_data()\n",
    "X2 = get_data_v2()\n",
    "\n"
   ]
  },
  {
   "cell_type": "code",
   "execution_count": 5,
   "metadata": {
    "collapsed": false
   },
   "outputs": [],
   "source": [
    "def get_spammer_subset(data):\n",
    "    spammers = []\n",
    "    sub_set = []\n",
    "    for entry in data:\n",
    "        if entry['IsGold'] is 1:\n",
    "            if entry['Course'] is 2:\n",
    "                continue\n",
    "            if not entry['GoldValue'] is entry['Course']:\n",
    "                spammers.append(entry['WorkerId'])\n",
    "    \n",
    "    for entry in data:\n",
    "        if entry['WorkerId'] in spammers:\n",
    "            sub_set.append(entry)\n",
    "    return sub_set\n",
    "\n",
    "def get_unique_workers(data):\n",
    "    unique = []\n",
    "    workers = [w['WorkerId'] for w in data]\n",
    "    return set(workers)\n",
    "\n",
    "def get_appealing(data):\n",
    "    return [x['Appealing'] for x in data]\n",
    "\n",
    "def remove_spammers(data):\n",
    "    get\n",
    "    "
   ]
  },
  {
   "cell_type": "code",
   "execution_count": 30,
   "metadata": {
    "collapsed": false
   },
   "outputs": [],
   "source": [
    "spammers = get_spammer_subset(X)\n",
    "unique_workers = get_unique_workers(X)\n",
    "unique_spammers = get_unique_workers(spammers)\n",
    "appealing_spammers = get_appealing(spammers)\n",
    "appealing = get_appealing(X)"
   ]
  },
  {
   "cell_type": "code",
   "execution_count": 31,
   "metadata": {
    "collapsed": false
   },
   "outputs": [
    {
     "name": "stdout",
     "output_type": "stream",
     "text": [
      "1484\n",
      "205\n",
      "74\n"
     ]
    }
   ],
   "source": [
    "print len(spammers)\n",
    "print len(unique_workers)\n",
    "print len(unique_spammers)"
   ]
  },
  {
   "cell_type": "code",
   "execution_count": null,
   "metadata": {
    "collapsed": false
   },
   "outputs": [],
   "source": []
  },
  {
   "cell_type": "code",
   "execution_count": null,
   "metadata": {
    "collapsed": false
   },
   "outputs": [],
   "source": []
  },
  {
   "cell_type": "code",
   "execution_count": null,
   "metadata": {
    "collapsed": false
   },
   "outputs": [],
   "source": []
  },
  {
   "cell_type": "code",
   "execution_count": null,
   "metadata": {
    "collapsed": false
   },
   "outputs": [],
   "source": []
  },
  {
   "cell_type": "markdown",
   "metadata": {
    "collapsed": false
   },
   "source": [
    "# What gold images failed?\n",
    "Are the images in fact ambiguous? - Not really..."
   ]
  },
  {
   "cell_type": "code",
   "execution_count": 39,
   "metadata": {
    "collapsed": false
   },
   "outputs": [
    {
     "name": "stdout",
     "output_type": "stream",
     "text": [
      "https://s3.eu-central-1.amazonaws.com/turk-food/32.jpg\n",
      "https://s3.eu-central-1.amazonaws.com/turk-food/95.jpg\n",
      "https://s3.eu-central-1.amazonaws.com/turk-food/138.jpg\n",
      "https://s3.eu-central-1.amazonaws.com/turk-food/67.jpg\n",
      "https://s3.eu-central-1.amazonaws.com/turk-food/159.jpg\n",
      "https://s3.eu-central-1.amazonaws.com/turk-food/114.jpg\n",
      "https://s3.eu-central-1.amazonaws.com/turk-food/221.jpg\n",
      "https://s3.eu-central-1.amazonaws.com/turk-food/91.jpg\n",
      "https://s3.eu-central-1.amazonaws.com/turk-food/16.jpg\n",
      "https://s3.eu-central-1.amazonaws.com/turk-food/237.jpg\n",
      "https://s3.eu-central-1.amazonaws.com/turk-food/43.jpg\n",
      "https://s3.eu-central-1.amazonaws.com/turk-food/74.jpg\n",
      "https://s3.eu-central-1.amazonaws.com/turk-food/55.jpg\n",
      "https://s3.eu-central-1.amazonaws.com/turk-food/63.jpg\n"
     ]
    }
   ],
   "source": [
    "failed_img = []\n",
    "for i in spammers:\n",
    "    if i['IsGold'] is 1:\n",
    "        failed_img.append(i['Url'])\n",
    "failed_img = set(failed_img)\n",
    "\n",
    "for i in failed_img:\n",
    "    print i\n"
   ]
  },
  {
   "cell_type": "markdown",
   "metadata": {},
   "source": [
    "# Below is implemented a collection wrapper + Worker + Image + HIT objects\n",
    "\n",
    "The objects are translating the data, and can be used as the automatable model"
   ]
  },
  {
   "cell_type": "code",
   "execution_count": 36,
   "metadata": {
    "collapsed": false
   },
   "outputs": [],
   "source": [
    "class Worker(object):\n",
    "    def __init__(self, data_entry):\n",
    "        self.workerId = data_entry['WorkerId'].lower()\n",
    "        self.tasks = []\n",
    "        self.correct_gold_items = 0\n",
    "        self.false_gold_items = 0\n",
    "        self.netrual_gold_items = 0\n",
    "    \n",
    "    def add_task(self, task):\n",
    "        self.tasks.append(task)\n",
    "        if(self.__is_gold):\n",
    "            self.__update_score(task)\n",
    "            \n",
    "    def get_gold_metrics(self):\n",
    "        return { 'Correct': self.correct_gold_items, \n",
    "                 'False'  : self.false_gold_items,\n",
    "                 'Netrual': self.netrual_gold_items }\n",
    "    \n",
    "    def get_worker_score(self):\n",
    "        total = self.get_total_gold_items()\n",
    "        if total == 0:\n",
    "            return 0\n",
    "        return ((self.correct_gold_items * 1) +\n",
    "                (self.netrual_gold_items * 0)) / self.get_total_gold_items()\n",
    "    \n",
    "    def get_total_gold_items(self):\n",
    "        return self.correct_gold_items + self.false_gold_items \n",
    "    \n",
    "    def equals(self, workerId):\n",
    "        return self.workerId == workerId.lower()\n",
    "    \n",
    "    def __update_score(self, task):\n",
    "        submitted_val = task['Course']\n",
    "        gold_value = task['GoldValue']\n",
    "        if submitted_val is gold_value:\n",
    "            self.correct_gold_items += 1\n",
    "        elif submitted_val is 0:\n",
    "            self.netrual_gold_items +=1\n",
    "        else:\n",
    "            self.false_gold_items +=1\n",
    "    \n",
    "    def __is_gold(self, task):\n",
    "        return task['IsGold'] is 1\n",
    "    \n",
    "class Collection(object):\n",
    "    def __init__(self, identifier, itemType):\n",
    "        self.collection = []\n",
    "        self.identifier = identifier\n",
    "        self.create_item = itemType\n",
    "    \n",
    "    def add(self, entry):\n",
    "        item = self.contains(self.__item_id(entry))\n",
    "        if not item:\n",
    "            item = self.create_item(entry)\n",
    "            self.collection.append(item)\n",
    "        item.add_task(entry)\n",
    "    \n",
    "    def get_collection(self):\n",
    "        return self.collection\n",
    "    \n",
    "    def contains(self, itemId):\n",
    "        for w in self.collection:\n",
    "            if w.equals(itemId):\n",
    "                return w\n",
    "        return None\n",
    "    \n",
    "    def __item_id(self, entry):\n",
    "        return entry[self.identifier]\n",
    "    \n",
    "class Image(object):\n",
    "    def __init__(self, entry_data):\n",
    "        self.imgId = entry_data['ImgId']\n",
    "        self.url = entry_data['Url'].lower()\n",
    "        self.is_gold = entry_data['IsGold'] is 1\n",
    "        self.gold_value = entry_data['GoldValue']\n",
    "        self.free_text = []\n",
    "        self.add_task(entry_data)\n",
    "    \n",
    "    def add_task(self, entry_data):\n",
    "        self.add_formatted_free_text(self.__free_text(entry_data))\n",
    "    \n",
    "    def get_metrics(self):\n",
    "        return { 'Id': self.imgId, 'Free': self.free_text }\n",
    "    \n",
    "    def add_formatted_free_text(self, free_text):\n",
    "        tokens = self.tokenise(free_text)\n",
    "        for token in tokens:\n",
    "            if not token == '':\n",
    "                index = self.contains_token(token)\n",
    "                if not index is None:\n",
    "                    self.free_text[index][token] += 1\n",
    "                else:\n",
    "                    self.free_text.append(self.__new_token(token))\n",
    "                    \n",
    "    def tokenise(self, free_text):\n",
    "        wnl = WordNetLemmatizer()\n",
    "        return [unicode(wnl.lemmatize(t.lower())) for t in word_tokenize(free_text, 'english') if t.isalpha() and t not in stop_words]\n",
    "        \n",
    "    def contains_token(self, token):\n",
    "        for i in xrange(len(self.free_text)):\n",
    "            if token in self.free_text[i]:\n",
    "                return i\n",
    "        return None\n",
    "    \n",
    "    def equals(self, imgId):\n",
    "        return self.imgId == imgId\n",
    "    \n",
    "    def __free_text(self, entry_data):\n",
    "        return entry_data['Free'].lower()\n",
    "    \n",
    "    def __new_token(self, token):\n",
    "        return {token: 1}\n",
    "    \n",
    "class Hit(object):\n",
    "    def __init__(self, entry_data):\n",
    "        self.hid = entry_data['Id']\n",
    "        self.worker = Worker(entry_data)\n",
    "        self.images = Collection('ImgId', Image)\n",
    "        self.correct_gold_items = 0\n",
    "        self.false_gold_items = 0\n",
    "        self.netrual_gold_items = 0\n",
    "    \n",
    "    def get_total_gold_items(self):\n",
    "        return [i for i in self.images.get_collection() if i.is_gold]\n",
    "    \n",
    "    def get_total_items(self):\n",
    "        return self.images.get_collection()\n",
    "    \n",
    "    def add_task(self, entry_data):\n",
    "        self.images.add(entry_data)\n",
    "        self.__update_score(entry_data)\n",
    "    \n",
    "    def get_worker_score(self):\n",
    "        total = self.get_total_gold_items()\n",
    "        if not total:\n",
    "            return 0\n",
    "        return ((self.correct_gold_items * 1) +\n",
    "                (self.netrual_gold_items * 0)) / len(total)\n",
    "    \n",
    "    def equals(self, hid):\n",
    "        return self.hid == hid\n",
    "    \n",
    "    def __update_score(self, task):\n",
    "        submitted_val = task['Course']\n",
    "        gold_value = task['GoldValue']\n",
    "        if submitted_val is gold_value:\n",
    "            self.correct_gold_items += 1\n",
    "        elif submitted_val is 0:\n",
    "            self.netrual_gold_items +=1\n",
    "        else:\n",
    "            self.false_gold_items +=1\n",
    "        "
   ]
  },
  {
   "cell_type": "code",
   "execution_count": 37,
   "metadata": {
    "collapsed": false
   },
   "outputs": [],
   "source": [
    "worker_collection = Collection('WorkerId', Worker)\n",
    "\n",
    "for x in X:\n",
    "    worker_collection.add(x)\n",
    "\n",
    "W = worker_collection.get_collection()"
   ]
  },
  {
   "cell_type": "code",
   "execution_count": 38,
   "metadata": {
    "collapsed": false
   },
   "outputs": [
    {
     "name": "stdout",
     "output_type": "stream",
     "text": [
      "0.37347518214\n"
     ]
    }
   ],
   "source": [
    "worker_scores = [w.get_worker_score() for w in W]\n",
    "\n",
    "print sum(worker_scores)/len(worker_scores)"
   ]
  },
  {
   "cell_type": "code",
   "execution_count": 15,
   "metadata": {
    "collapsed": false
   },
   "outputs": [
    {
     "name": "stdout",
     "output_type": "stream",
     "text": [
      "{'Netrual': 0, 'False': 0, 'Correct': 1}\n",
      "{'Netrual': 15, 'False': 0, 'Correct': 4}\n",
      "{'Netrual': 17, 'False': 14, 'Correct': 6}\n",
      "{'Netrual': 1, 'False': 0, 'Correct': 0}\n",
      "{'Netrual': 3, 'False': 0, 'Correct': 0}\n",
      "{'Netrual': 8, 'False': 5, 'Correct': 0}\n",
      "{'Netrual': 1, 'False': 0, 'Correct': 0}\n",
      "{'Netrual': 1, 'False': 0, 'Correct': 0}\n",
      "{'Netrual': 1, 'False': 0, 'Correct': 0}\n",
      "{'Netrual': 5, 'False': 12, 'Correct': 2}\n",
      "{'Netrual': 12, 'False': 4, 'Correct': 4}\n",
      "{'Netrual': 2, 'False': 4, 'Correct': 0}\n",
      "{'Netrual': 1, 'False': 0, 'Correct': 0}\n",
      "{'Netrual': 11, 'False': 2, 'Correct': 4}\n",
      "{'Netrual': 7, 'False': 8, 'Correct': 3}\n",
      "{'Netrual': 1, 'False': 9, 'Correct': 2}\n",
      "{'Netrual': 9, 'False': 7, 'Correct': 4}\n",
      "{'Netrual': 7, 'False': 10, 'Correct': 2}\n",
      "{'Netrual': 1, 'False': 0, 'Correct': 0}\n",
      "{'Netrual': 6, 'False': 26, 'Correct': 5}\n",
      "{'Netrual': 0, 'False': 0, 'Correct': 1}\n",
      "{'Netrual': 6, 'False': 5, 'Correct': 4}\n",
      "{'Netrual': 4, 'False': 2, 'Correct': 0}\n",
      "{'Netrual': 6, 'False': 11, 'Correct': 2}\n",
      "{'Netrual': 2, 'False': 0, 'Correct': 2}\n",
      "{'Netrual': 21, 'False': 7, 'Correct': 7}\n",
      "{'Netrual': 5, 'False': 3, 'Correct': 2}\n",
      "{'Netrual': 4, 'False': 0, 'Correct': 1}\n",
      "{'Netrual': 8, 'False': 0, 'Correct': 2}\n",
      "{'Netrual': 4, 'False': 5, 'Correct': 3}\n",
      "{'Netrual': 0, 'False': 0, 'Correct': 1}\n",
      "{'Netrual': 0, 'False': 2, 'Correct': 0}\n",
      "{'Netrual': 2, 'False': 0, 'Correct': 0}\n",
      "{'Netrual': 8, 'False': 7, 'Correct': 4}\n",
      "{'Netrual': 4, 'False': 2, 'Correct': 1}\n",
      "{'Netrual': 6, 'False': 1, 'Correct': 1}\n",
      "{'Netrual': 4, 'False': 1, 'Correct': 2}\n",
      "{'Netrual': 6, 'False': 3, 'Correct': 3}\n",
      "{'Netrual': 5, 'False': 0, 'Correct': 0}\n",
      "{'Netrual': 2, 'False': 1, 'Correct': 1}\n",
      "{'Netrual': 1, 'False': 0, 'Correct': 0}\n",
      "{'Netrual': 1, 'False': 0, 'Correct': 0}\n",
      "{'Netrual': 1, 'False': 1, 'Correct': 0}\n",
      "{'Netrual': 4, 'False': 2, 'Correct': 3}\n",
      "{'Netrual': 3, 'False': 3, 'Correct': 1}\n",
      "{'Netrual': 10, 'False': 1, 'Correct': 3}\n",
      "{'Netrual': 9, 'False': 7, 'Correct': 3}\n",
      "{'Netrual': 4, 'False': 3, 'Correct': 1}\n",
      "{'Netrual': 0, 'False': 1, 'Correct': 0}\n",
      "{'Netrual': 2, 'False': 0, 'Correct': 1}\n",
      "{'Netrual': 1, 'False': 0, 'Correct': 0}\n",
      "{'Netrual': 5, 'False': 1, 'Correct': 1}\n",
      "{'Netrual': 1, 'False': 0, 'Correct': 0}\n",
      "{'Netrual': 0, 'False': 1, 'Correct': 0}\n",
      "{'Netrual': 1, 'False': 0, 'Correct': 2}\n",
      "{'Netrual': 6, 'False': 4, 'Correct': 3}\n",
      "{'Netrual': 0, 'False': 0, 'Correct': 1}\n",
      "{'Netrual': 1, 'False': 2, 'Correct': 0}\n",
      "{'Netrual': 3, 'False': 0, 'Correct': 0}\n",
      "{'Netrual': 7, 'False': 0, 'Correct': 4}\n",
      "{'Netrual': 4, 'False': 1, 'Correct': 0}\n",
      "{'Netrual': 1, 'False': 0, 'Correct': 1}\n",
      "{'Netrual': 1, 'False': 2, 'Correct': 0}\n",
      "{'Netrual': 2, 'False': 0, 'Correct': 0}\n",
      "{'Netrual': 1, 'False': 0, 'Correct': 0}\n",
      "{'Netrual': 11, 'False': 6, 'Correct': 4}\n",
      "{'Netrual': 8, 'False': 5, 'Correct': 3}\n",
      "{'Netrual': 3, 'False': 5, 'Correct': 1}\n",
      "{'Netrual': 0, 'False': 0, 'Correct': 1}\n",
      "{'Netrual': 1, 'False': 0, 'Correct': 0}\n",
      "{'Netrual': 1, 'False': 0, 'Correct': 0}\n",
      "{'Netrual': 13, 'False': 5, 'Correct': 6}\n",
      "{'Netrual': 1, 'False': 0, 'Correct': 1}\n",
      "{'Netrual': 9, 'False': 6, 'Correct': 4}\n",
      "{'Netrual': 1, 'False': 2, 'Correct': 0}\n",
      "{'Netrual': 10, 'False': 7, 'Correct': 3}\n",
      "{'Netrual': 3, 'False': 1, 'Correct': 2}\n",
      "{'Netrual': 9, 'False': 7, 'Correct': 3}\n",
      "{'Netrual': 9, 'False': 6, 'Correct': 4}\n",
      "{'Netrual': 1, 'False': 1, 'Correct': 0}\n",
      "{'Netrual': 1, 'False': 2, 'Correct': 0}\n",
      "{'Netrual': 1, 'False': 0, 'Correct': 0}\n",
      "{'Netrual': 4, 'False': 2, 'Correct': 2}\n",
      "{'Netrual': 1, 'False': 1, 'Correct': 1}\n",
      "{'Netrual': 7, 'False': 8, 'Correct': 4}\n",
      "{'Netrual': 35, 'False': 14, 'Correct': 15}\n",
      "{'Netrual': 9, 'False': 6, 'Correct': 4}\n",
      "{'Netrual': 7, 'False': 3, 'Correct': 2}\n",
      "{'Netrual': 13, 'False': 15, 'Correct': 7}\n",
      "{'Netrual': 13, 'False': 17, 'Correct': 8}\n",
      "{'Netrual': 1, 'False': 0, 'Correct': 0}\n",
      "{'Netrual': 10, 'False': 5, 'Correct': 4}\n",
      "{'Netrual': 2, 'False': 0, 'Correct': 0}\n",
      "{'Netrual': 21, 'False': 9, 'Correct': 8}\n",
      "{'Netrual': 13, 'False': 1, 'Correct': 4}\n",
      "{'Netrual': 9, 'False': 6, 'Correct': 4}\n",
      "{'Netrual': 5, 'False': 11, 'Correct': 2}\n",
      "{'Netrual': 4, 'False': 10, 'Correct': 4}\n",
      "{'Netrual': 12, 'False': 3, 'Correct': 4}\n",
      "{'Netrual': 24, 'False': 4, 'Correct': 8}\n",
      "{'Netrual': 3, 'False': 0, 'Correct': 2}\n",
      "{'Netrual': 5, 'False': 9, 'Correct': 5}\n",
      "{'Netrual': 11, 'False': 4, 'Correct': 5}\n",
      "{'Netrual': 8, 'False': 7, 'Correct': 4}\n",
      "{'Netrual': 25, 'False': 7, 'Correct': 6}\n",
      "{'Netrual': 0, 'False': 1, 'Correct': 0}\n",
      "{'Netrual': 23, 'False': 4, 'Correct': 6}\n",
      "{'Netrual': 1, 'False': 0, 'Correct': 0}\n",
      "{'Netrual': 8, 'False': 7, 'Correct': 4}\n",
      "{'Netrual': 12, 'False': 3, 'Correct': 4}\n",
      "{'Netrual': 1, 'False': 1, 'Correct': 1}\n",
      "{'Netrual': 0, 'False': 1, 'Correct': 0}\n",
      "{'Netrual': 9, 'False': 6, 'Correct': 4}\n",
      "{'Netrual': 11, 'False': 3, 'Correct': 5}\n",
      "{'Netrual': 0, 'False': 2, 'Correct': 3}\n",
      "{'Netrual': 0, 'False': 2, 'Correct': 0}\n",
      "{'Netrual': 1, 'False': 0, 'Correct': 1}\n",
      "{'Netrual': 11, 'False': 4, 'Correct': 4}\n",
      "{'Netrual': 1, 'False': 2, 'Correct': 2}\n",
      "{'Netrual': 14, 'False': 1, 'Correct': 4}\n",
      "{'Netrual': 12, 'False': 10, 'Correct': 1}\n",
      "{'Netrual': 11, 'False': 3, 'Correct': 5}\n",
      "{'Netrual': 2, 'False': 1, 'Correct': 1}\n",
      "{'Netrual': 10, 'False': 5, 'Correct': 4}\n",
      "{'Netrual': 9, 'False': 5, 'Correct': 3}\n",
      "{'Netrual': 2, 'False': 1, 'Correct': 0}\n",
      "{'Netrual': 7, 'False': 7, 'Correct': 5}\n",
      "{'Netrual': 5, 'False': 9, 'Correct': 4}\n",
      "{'Netrual': 3, 'False': 5, 'Correct': 1}\n",
      "{'Netrual': 12, 'False': 4, 'Correct': 2}\n",
      "{'Netrual': 12, 'False': 3, 'Correct': 4}\n",
      "{'Netrual': 1, 'False': 1, 'Correct': 1}\n",
      "{'Netrual': 11, 'False': 3, 'Correct': 5}\n",
      "{'Netrual': 22, 'False': 6, 'Correct': 5}\n",
      "{'Netrual': 6, 'False': 9, 'Correct': 4}\n",
      "{'Netrual': 4, 'False': 12, 'Correct': 1}\n",
      "{'Netrual': 8, 'False': 7, 'Correct': 4}\n",
      "{'Netrual': 5, 'False': 3, 'Correct': 1}\n",
      "{'Netrual': 5, 'False': 3, 'Correct': 0}\n",
      "{'Netrual': 1, 'False': 1, 'Correct': 0}\n",
      "{'Netrual': 22, 'False': 7, 'Correct': 9}\n",
      "{'Netrual': 10, 'False': 5, 'Correct': 3}\n",
      "{'Netrual': 9, 'False': 7, 'Correct': 2}\n",
      "{'Netrual': 11, 'False': 8, 'Correct': 3}\n",
      "{'Netrual': 10, 'False': 3, 'Correct': 2}\n",
      "{'Netrual': 11, 'False': 3, 'Correct': 4}\n",
      "{'Netrual': 6, 'False': 7, 'Correct': 5}\n",
      "{'Netrual': 5, 'False': 10, 'Correct': 3}\n",
      "{'Netrual': 1, 'False': 0, 'Correct': 0}\n",
      "{'Netrual': 11, 'False': 12, 'Correct': 5}\n",
      "{'Netrual': 20, 'False': 11, 'Correct': 7}\n",
      "{'Netrual': 11, 'False': 6, 'Correct': 2}\n",
      "{'Netrual': 13, 'False': 2, 'Correct': 4}\n",
      "{'Netrual': 8, 'False': 10, 'Correct': 4}\n",
      "{'Netrual': 15, 'False': 0, 'Correct': 4}\n",
      "{'Netrual': 7, 'False': 8, 'Correct': 4}\n",
      "{'Netrual': 3, 'False': 12, 'Correct': 4}\n",
      "{'Netrual': 3, 'False': 0, 'Correct': 0}\n",
      "{'Netrual': 2, 'False': 0, 'Correct': 0}\n",
      "{'Netrual': 0, 'False': 1, 'Correct': 1}\n",
      "{'Netrual': 1, 'False': 0, 'Correct': 0}\n",
      "{'Netrual': 11, 'False': 3, 'Correct': 5}\n",
      "{'Netrual': 1, 'False': 0, 'Correct': 1}\n",
      "{'Netrual': 3, 'False': 0, 'Correct': 1}\n",
      "{'Netrual': 19, 'False': 11, 'Correct': 8}\n",
      "{'Netrual': 0, 'False': 1, 'Correct': 0}\n",
      "{'Netrual': 1, 'False': 0, 'Correct': 1}\n",
      "{'Netrual': 20, 'False': 13, 'Correct': 4}\n",
      "{'Netrual': 12, 'False': 2, 'Correct': 4}\n",
      "{'Netrual': 12, 'False': 4, 'Correct': 3}\n",
      "{'Netrual': 10, 'False': 5, 'Correct': 4}\n",
      "{'Netrual': 20, 'False': 10, 'Correct': 8}\n",
      "{'Netrual': 12, 'False': 3, 'Correct': 4}\n",
      "{'Netrual': 8, 'False': 4, 'Correct': 4}\n",
      "{'Netrual': 3, 'False': 0, 'Correct': 0}\n",
      "{'Netrual': 9, 'False': 5, 'Correct': 3}\n",
      "{'Netrual': 11, 'False': 6, 'Correct': 2}\n",
      "{'Netrual': 9, 'False': 6, 'Correct': 4}\n",
      "{'Netrual': 10, 'False': 6, 'Correct': 3}\n",
      "{'Netrual': 10, 'False': 5, 'Correct': 4}\n",
      "{'Netrual': 2, 'False': 3, 'Correct': 0}\n",
      "{'Netrual': 11, 'False': 4, 'Correct': 4}\n",
      "{'Netrual': 0, 'False': 0, 'Correct': 2}\n",
      "{'Netrual': 24, 'False': 6, 'Correct': 8}\n",
      "{'Netrual': 7, 'False': 6, 'Correct': 5}\n",
      "{'Netrual': 12, 'False': 2, 'Correct': 4}\n",
      "{'Netrual': 3, 'False': 1, 'Correct': 3}\n",
      "{'Netrual': 9, 'False': 4, 'Correct': 4}\n",
      "{'Netrual': 4, 'False': 1, 'Correct': 0}\n",
      "{'Netrual': 9, 'False': 6, 'Correct': 4}\n",
      "{'Netrual': 0, 'False': 2, 'Correct': 2}\n",
      "{'Netrual': 7, 'False': 9, 'Correct': 3}\n",
      "{'Netrual': 5, 'False': 7, 'Correct': 4}\n",
      "{'Netrual': 9, 'False': 6, 'Correct': 3}\n",
      "{'Netrual': 4, 'False': 10, 'Correct': 4}\n",
      "{'Netrual': 22, 'False': 3, 'Correct': 4}\n",
      "{'Netrual': 7, 'False': 11, 'Correct': 1}\n",
      "{'Netrual': 13, 'False': 3, 'Correct': 3}\n",
      "{'Netrual': 0, 'False': 0, 'Correct': 1}\n",
      "{'Netrual': 8, 'False': 8, 'Correct': 2}\n",
      "{'Netrual': 3, 'False': 1, 'Correct': 0}\n",
      "{'Netrual': 4, 'False': 4, 'Correct': 3}\n",
      "{'Netrual': 0, 'False': 1, 'Correct': 0}\n",
      "{'Netrual': 6, 'False': 10, 'Correct': 3}\n",
      "{'Netrual': 0, 'False': 1, 'Correct': 0}\n"
     ]
    }
   ],
   "source": [
    "sorted(worker_scores)\n",
    "metrics = [w.get_gold_metrics() for w in W]\n",
    "for m in metrics:\n",
    "    print m"
   ]
  },
  {
   "cell_type": "code",
   "execution_count": null,
   "metadata": {
    "collapsed": true
   },
   "outputs": [],
   "source": []
  },
  {
   "cell_type": "code",
   "execution_count": 16,
   "metadata": {
    "collapsed": false
   },
   "outputs": [],
   "source": [
    "image_collection = Collection('ImgId', Image)\n",
    "\n",
    "for x in X:\n",
    "    image_collection.add(x)\n",
    "\n",
    "images = image_collection.get_collection()"
   ]
  },
  {
   "cell_type": "code",
   "execution_count": 17,
   "metadata": {
    "collapsed": false
   },
   "outputs": [],
   "source": [
    "\n",
    "#for i in images:\n",
    "#    metrics = i.get_metrics()\n",
    "#    print metrics['Id']\n",
    "#    for i in metrics['Free']:\n",
    "#        print i\n",
    "#    print '\\n#########\\n'\n",
    "\n",
    "    # !! 141"
   ]
  },
  {
   "cell_type": "code",
   "execution_count": 18,
   "metadata": {
    "collapsed": false
   },
   "outputs": [],
   "source": [
    "hit_collection = Collection('Id', Hit)\n",
    "\n",
    "for x in X:\n",
    "    hit_collection.add(x)\n",
    "\n",
    "hits = hit_collection.get_collection()"
   ]
  },
  {
   "cell_type": "code",
   "execution_count": 19,
   "metadata": {
    "collapsed": false
   },
   "outputs": [
    {
     "name": "stdout",
     "output_type": "stream",
     "text": [
      "1.000000 : 1 : 1\n",
      "0.800000 : 19 : 5\n",
      "0.800000 : 19 : 5\n",
      "0.000000 : 1 : 0\n",
      "0.000000 : 3 : 0\n",
      "0.000000 : 13 : 2\n",
      "0.000000 : 1 : 0\n",
      "0.000000 : 1 : 0\n",
      "0.000000 : 1 : 0\n",
      "0.500000 : 19 : 4\n",
      "0.750000 : 19 : 4\n",
      "0.000000 : 6 : 1\n",
      "0.000000 : 1 : 0\n",
      "0.800000 : 17 : 5\n",
      "0.600000 : 17 : 5\n",
      "0.666667 : 12 : 3\n",
      "0.666667 : 10 : 3\n",
      "0.500000 : 19 : 4\n",
      "0.000000 : 1 : 0\n",
      "1.000000 : 18 : 5\n",
      "1.000000 : 1 : 1\n",
      "1.000000 : 15 : 4\n",
      "0.000000 : 6 : 0\n",
      "0.400000 : 19 : 5\n",
      "1.000000 : 4 : 2\n",
      "0.750000 : 17 : 4\n",
      "0.666667 : 10 : 3\n",
      "1.000000 : 5 : 1\n",
      "0.666667 : 10 : 3\n",
      "1.000000 : 12 : 3\n",
      "1.000000 : 1 : 1\n",
      "0.000000 : 2 : 1\n",
      "0.000000 : 2 : 1\n",
      "0.800000 : 19 : 5\n",
      "1.000000 : 7 : 1\n",
      "1.000000 : 8 : 1\n",
      "1.000000 : 7 : 2\n",
      "0.750000 : 12 : 4\n",
      "0.000000 : 5 : 1\n",
      "1.000000 : 4 : 1\n",
      "0.000000 : 1 : 0\n",
      "0.000000 : 1 : 0\n",
      "0.000000 : 2 : 0\n",
      "0.750000 : 9 : 4\n",
      "0.500000 : 7 : 2\n",
      "0.750000 : 14 : 4\n",
      "0.600000 : 19 : 5\n",
      "1.000000 : 8 : 1\n",
      "0.000000 : 1 : 1\n",
      "1.000000 : 3 : 1\n",
      "0.400000 : 18 : 5\n",
      "0.000000 : 1 : 0\n",
      "0.500000 : 7 : 2\n",
      "0.000000 : 1 : 1\n",
      "0.000000 : 1 : 1\n",
      "1.000000 : 3 : 2\n",
      "1.000000 : 13 : 3\n",
      "0.000000 : 1 : 0\n",
      "1.000000 : 1 : 1\n",
      "0.000000 : 3 : 0\n",
      "0.000000 : 3 : 0\n",
      "0.800000 : 11 : 5\n",
      "0.000000 : 5 : 1\n",
      "0.000000 : 19 : 5\n",
      "1.000000 : 2 : 1\n",
      "0.000000 : 3 : 0\n",
      "0.000000 : 2 : 0\n",
      "0.000000 : 1 : 0\n",
      "0.000000 : 2 : 0\n",
      "1.000000 : 1 : 1\n",
      "1.000000 : 16 : 3\n",
      "1.000000 : 9 : 1\n",
      "0.800000 : 19 : 5\n",
      "1.000000 : 1 : 1\n",
      "0.000000 : 1 : 0\n",
      "0.000000 : 1 : 0\n",
      "1.000000 : 19 : 5\n",
      "1.000000 : 18 : 4\n",
      "1.000000 : 2 : 1\n",
      "1.000000 : 10 : 2\n",
      "0.800000 : 19 : 5\n",
      "0.000000 : 3 : 1\n",
      "0.600000 : 19 : 5\n",
      "1.000000 : 6 : 2\n",
      "0.750000 : 19 : 4\n",
      "0.000000 : 1 : 0\n",
      "0.800000 : 19 : 5\n",
      "0.000000 : 2 : 1\n",
      "0.000000 : 3 : 0\n",
      "0.000000 : 1 : 0\n",
      "1.000000 : 8 : 2\n",
      "1.000000 : 3 : 1\n",
      "0.500000 : 5 : 2\n",
      "1.000000 : 19 : 4\n",
      "1.000000 : 18 : 4\n",
      "0.750000 : 5 : 4\n",
      "0.800000 : 19 : 5\n",
      "1.000000 : 12 : 2\n",
      "0.800000 : 18 : 5\n",
      "0.800000 : 19 : 5\n",
      "0.000000 : 1 : 0\n",
      "0.800000 : 19 : 5\n",
      "0.000000 : 3 : 0\n",
      "0.800000 : 18 : 5\n",
      "0.000000 : 2 : 0\n",
      "0.800000 : 19 : 5\n",
      "0.750000 : 17 : 4\n",
      "0.800000 : 18 : 5\n",
      "0.800000 : 19 : 5\n",
      "1.000000 : 19 : 4\n",
      "0.500000 : 7 : 2\n",
      "0.500000 : 18 : 4\n",
      "0.800000 : 19 : 5\n",
      "1.000000 : 18 : 4\n",
      "1.000000 : 19 : 4\n",
      "1.000000 : 18 : 4\n",
      "1.000000 : 5 : 2\n",
      "1.000000 : 19 : 5\n",
      "1.000000 : 19 : 5\n",
      "0.800000 : 19 : 5\n",
      "0.750000 : 19 : 4\n",
      "0.000000 : 1 : 1\n",
      "1.000000 : 18 : 4\n",
      "0.500000 : 19 : 4\n",
      "0.000000 : 1 : 0\n",
      "0.800000 : 19 : 5\n",
      "0.000000 : 1 : 0\n",
      "1.000000 : 14 : 4\n",
      "1.000000 : 19 : 4\n",
      "1.000000 : 3 : 1\n",
      "0.000000 : 1 : 0\n",
      "0.800000 : 19 : 5\n",
      "1.000000 : 19 : 5\n",
      "0.750000 : 19 : 4\n",
      "1.000000 : 5 : 3\n",
      "0.000000 : 2 : 0\n",
      "0.500000 : 2 : 2\n",
      "0.800000 : 19 : 5\n",
      "0.666667 : 5 : 3\n",
      "0.800000 : 19 : 5\n",
      "0.200000 : 19 : 5\n",
      "1.000000 : 19 : 5\n",
      "1.000000 : 4 : 1\n",
      "1.000000 : 19 : 4\n",
      "0.750000 : 17 : 4\n",
      "0.000000 : 4 : 0\n",
      "0.000000 : 3 : 0\n",
      "1.000000 : 19 : 5\n",
      "0.800000 : 18 : 5\n",
      "1.000000 : 9 : 1\n",
      "0.666667 : 18 : 3\n",
      "0.800000 : 19 : 5\n",
      "1.000000 : 3 : 1\n",
      "1.000000 : 19 : 5\n",
      "0.000000 : 14 : 0\n",
      "0.800000 : 19 : 5\n",
      "0.250000 : 17 : 4\n",
      "0.800000 : 19 : 5\n",
      "1.000000 : 9 : 1\n",
      "0.000000 : 8 : 1\n",
      "0.000000 : 2 : 0\n",
      "0.800000 : 19 : 5\n",
      "0.600000 : 18 : 5\n",
      "0.666667 : 18 : 3\n",
      "0.000000 : 3 : 0\n",
      "0.500000 : 14 : 2\n",
      "1.000000 : 18 : 4\n",
      "1.000000 : 18 : 5\n",
      "0.750000 : 18 : 4\n",
      "0.000000 : 1 : 0\n",
      "1.000000 : 19 : 5\n",
      "0.600000 : 18 : 5\n",
      "0.750000 : 19 : 4\n",
      "0.800000 : 19 : 5\n",
      "0.500000 : 19 : 4\n",
      "0.800000 : 19 : 5\n",
      "0.500000 : 5 : 2\n",
      "0.800000 : 19 : 5\n",
      "1.000000 : 1 : 1\n",
      "0.800000 : 19 : 5\n",
      "1.000000 : 19 : 4\n",
      "1.000000 : 10 : 2\n",
      "0.000000 : 3 : 0\n",
      "0.000000 : 2 : 0\n",
      "1.000000 : 2 : 1\n",
      "0.000000 : 1 : 0\n",
      "1.000000 : 19 : 5\n",
      "1.000000 : 2 : 1\n",
      "0.600000 : 19 : 5\n",
      "1.000000 : 4 : 1\n",
      "1.000000 : 17 : 3\n",
      "0.800000 : 19 : 5\n",
      "0.000000 : 1 : 0\n",
      "1.000000 : 2 : 1\n",
      "0.666667 : 18 : 3\n",
      "1.000000 : 18 : 4\n",
      "0.600000 : 19 : 5\n",
      "0.800000 : 19 : 5\n",
      "0.800000 : 19 : 5\n",
      "0.800000 : 19 : 5\n",
      "0.800000 : 16 : 5\n",
      "0.000000 : 3 : 0\n",
      "1.000000 : 17 : 3\n",
      "0.400000 : 19 : 5\n",
      "0.800000 : 19 : 5\n",
      "0.750000 : 19 : 4\n",
      "0.800000 : 19 : 5\n",
      "0.000000 : 5 : 0\n",
      "0.800000 : 19 : 5\n",
      "0.800000 : 19 : 5\n",
      "1.000000 : 1 : 1\n",
      "0.800000 : 19 : 5\n",
      "1.000000 : 1 : 1\n",
      "1.000000 : 18 : 5\n",
      "1.000000 : 19 : 4\n",
      "0.800000 : 18 : 5\n",
      "1.000000 : 19 : 5\n",
      "1.000000 : 2 : 1\n",
      "1.000000 : 17 : 4\n",
      "0.000000 : 5 : 1\n",
      "0.800000 : 19 : 5\n",
      "1.000000 : 5 : 2\n",
      "0.500000 : 19 : 4\n",
      "0.666667 : 4 : 3\n",
      "0.750000 : 19 : 4\n",
      "0.800000 : 16 : 5\n",
      "0.750000 : 18 : 4\n",
      "1.000000 : 18 : 4\n",
      "0.800000 : 19 : 5\n",
      "0.250000 : 19 : 4\n",
      "0.600000 : 19 : 5\n",
      "1.000000 : 1 : 1\n",
      "0.400000 : 18 : 5\n",
      "0.800000 : 19 : 5\n",
      "1.000000 : 13 : 3\n",
      "0.000000 : 10 : 1\n",
      "0.000000 : 4 : 0\n",
      "0.750000 : 11 : 4\n",
      "0.000000 : 1 : 1\n",
      "0.750000 : 19 : 4\n",
      "0.000000 : 1 : 0\n"
     ]
    }
   ],
   "source": [
    "for h in hits:\n",
    "    print '%f : %d : %d'%(h.get_worker_score(), len(h.get_total_items()), len(h.get_total_gold_items()))"
   ]
  },
  {
   "cell_type": "code",
   "execution_count": 20,
   "metadata": {
    "collapsed": false
   },
   "outputs": [
    {
     "ename": "NameError",
     "evalue": "name 'h0' is not defined",
     "output_type": "error",
     "traceback": [
      "\u001b[0;31m---------------------------------------------------------------------------\u001b[0m",
      "\u001b[0;31mNameError\u001b[0m                                 Traceback (most recent call last)",
      "\u001b[0;32m<ipython-input-20-3a3d1dbf620c>\u001b[0m in \u001b[0;36m<module>\u001b[0;34m()\u001b[0m\n\u001b[0;32m----> 1\u001b[0;31m \u001b[0;32mprint\u001b[0m \u001b[0mh0\u001b[0m\u001b[0;34m\u001b[0m\u001b[0m\n\u001b[0m",
      "\u001b[0;31mNameError\u001b[0m: name 'h0' is not defined"
     ]
    }
   ],
   "source": [
    "print h0"
   ]
  },
  {
   "cell_type": "markdown",
   "metadata": {},
   "source": [
    "# Quality distribution of set X and X2"
   ]
  },
  {
   "cell_type": "code",
   "execution_count": null,
   "metadata": {
    "collapsed": false
   },
   "outputs": [],
   "source": [
    "A1 = [d['Appealing'] for d in X]\n",
    "\n",
    "plt.figure(figsize=(10, 5))\n",
    "bins = np.arange(7) - 0.5\n",
    "plt.hist(A1, bins=bins, normed=1, alpha=0.5)\n",
    "plt.xlabel('Image Quality Rating')\n",
    "plt.ylabel('Frequency')\n",
    "plt.xticks(range(6))\n",
    "plt.xlim([0, 6])\n",
    "plt.show()"
   ]
  },
  {
   "cell_type": "code",
   "execution_count": null,
   "metadata": {
    "collapsed": false
   },
   "outputs": [],
   "source": [
    "A2 = [d['Appealing'] for d in X2]\n",
    "\n",
    "plt.figure(figsize=(10, 5))\n",
    "bins = np.arange(7) - 0.5\n",
    "plt.hist(A2, bins=bins, normed=1, alpha=0.5)\n",
    "plt.xlabel('Image Quality Rating')\n",
    "plt.ylabel('Frequency')\n",
    "plt.xticks(range(6))\n",
    "plt.xlim([0, 6])\n",
    "plt.show()"
   ]
  },
  {
   "cell_type": "markdown",
   "metadata": {},
   "source": [
    "# Worst and Best rated image of set X and X2"
   ]
  },
  {
   "cell_type": "code",
   "execution_count": 41,
   "metadata": {
    "collapsed": false
   },
   "outputs": [],
   "source": [
    "def get_best_and_worst_rated_image(data, precision):\n",
    "    images = []\n",
    "    for i in data:\n",
    "        iid = i['ImgId']\n",
    "        idx = contains(images, iid)\n",
    "        qual = i['Appealing']\n",
    "        if idx:\n",
    "            images[idx]['score'] += qual\n",
    "            images[idx]['hits'] += 1\n",
    "            images[idx]['all_scores'].append(qual)\n",
    "        else:\n",
    "            images.append({'ImgId': iid,'score': qual,'hits': 1, 't-score': 0.0, 'all_scores': [qual]})\n",
    "    \n",
    "    for i in images:\n",
    "        i['t-score'] = i['score'] / i['hits']\n",
    "    return [i for i in sorted(images, key=lambda k: k['t-score']) if i['hits'] > precision]\n",
    "        \n",
    "        \n",
    "\n",
    "def contains(lst, iid):\n",
    "        for i in xrange(len(lst)):\n",
    "            if iid == lst[i]['ImgId']:\n",
    "                return i\n",
    "        return None\n",
    "\n",
    "imgs = get_best_and_worst_rated_image(X, 4)\n",
    "imgs2 = get_best_and_worst_rated_image(X2, 2)"
   ]
  },
  {
   "cell_type": "code",
   "execution_count": null,
   "metadata": {
    "collapsed": false
   },
   "outputs": [],
   "source": []
  },
  {
   "cell_type": "code",
   "execution_count": 42,
   "metadata": {
    "collapsed": false
   },
   "outputs": [
    {
     "data": {
      "image/png": "[encoded data removed]",
      "text/plain": [
       "<matplotlib.figure.Figure at 0x10d35a450>"
      ]
     },
     "metadata": {},
     "output_type": "display_data"
    }
   ],
   "source": [
    "#243\n",
    "#61\n",
    "\n",
    "plt.figure(figsize=(10, 5))\n",
    "plt.plot(imgs[61]['all_scores'])\n",
    "plt.ylim(0,6)\n",
    "plt.xlim(0,len(imgs[61]['all_scores'])-1)\n",
    "plt.xlabel('Rating no. for img %d'%imgs[61]['ImgId'])\n",
    "plt.ylabel('Rating')\n",
    "plt.show()"
   ]
  },
  {
   "cell_type": "code",
   "execution_count": 43,
   "metadata": {
    "collapsed": false
   },
   "outputs": [
    {
     "data": {
      "image/png": "[encoded data removed]",
      "text/plain": [
       "<matplotlib.figure.Figure at 0x113090ad0>"
      ]
     },
     "metadata": {},
     "output_type": "display_data"
    }
   ],
   "source": [
    "plt.figure(figsize=(10, 5))\n",
    "plt.plot(imgs[12]['all_scores'])\n",
    "plt.ylim(0,6)\n",
    "plt.xlim(0,len(imgs[8]['all_scores']))\n",
    "plt.xlabel('Rating no. for img %d'%imgs[8]['ImgId'])\n",
    "plt.ylabel('Rating')\n",
    "plt.show()"
   ]
  },
  {
   "cell_type": "code",
   "execution_count": 44,
   "metadata": {
    "collapsed": false
   },
   "outputs": [
    {
     "name": "stdout",
     "output_type": "stream",
     "text": [
      "{'Id': 159, 'Free': [{u'pasta': 87}, {u'tomato': 78}, {u'coriander': 4}, {u'green': 14}, {u'cheese': 24}, {u'veggie': 2}, {u'penne': 13}, {u'cucumber': 50}, {u'onion': 33}, {u'spaghetti': 3}, {u'walnut': 8}, {u'spinach': 5}, {u'vegatables': 1}, {u'salad': 20}, {u'vegetable': 4}, {u'rigatoni': 1}, {u'red': 17}, {u'parsley': 2}, {u'mixed': 2}, {u'zuchini': 1}, {u'noodle': 11}, {u'thyme': 1}, {u'zuchinni': 1}, {u'cherry': 5}, {u'leafy': 1}, {u'lettuuce': 1}, {u'arugula': 8}, {u'nut': 4}, {u'lettuce': 9}, {u'chesse': 1}, {u'pepper': 4}, {u'basil': 2}, {u'roka': 1}, {u'purple': 1}, {u'herb': 2}, {u'beef': 1}, {u'ruccola': 1}, {u'cumcumber': 1}, {u'fresh': 1}, {u'mini': 1}, {u'frisee': 1}, {u'squash': 1}, {u'pickle': 3}, {u'grape': 1}, {u'leaf': 2}, {u'rucula': 1}, {u'past': 2}, {u'pastry': 1}, {u'mius': 1}, {u'leafe': 1}, {u'chicken': 1}, {u'zucchini': 2}, {u'parslet': 1}, {u'potato': 3}, {u'etc': 1}, {u'chunk': 1}, {u'sort': 1}, {u'topping': 1}, {u'macirion': 1}, {u'cinnamon': 1}, {u'bread': 1}, {u'parsely': 1}]}\n"
     ]
    }
   ],
   "source": [
    "print images[0].get_metrics()"
   ]
  },
  {
   "cell_type": "code",
   "execution_count": 45,
   "metadata": {
    "collapsed": false
   },
   "outputs": [
    {
     "data": {
      "image/png": "[encoded data removed]",
      "text/plain": [
       "<matplotlib.figure.Figure at 0x10d15e450>"
      ]
     },
     "metadata": {},
     "output_type": "display_data"
    }
   ],
   "source": [
    "s = ''\n",
    "\n",
    "def auto_correct(word):\n",
    "    lookup = {'cumcumber': 'cucumber', 'vegatables': 'vegetable', 'rucula': 'rucola', 'ruccola': 'rucola', 'roka': 'rucola',\n",
    "              'chesse': 'cheese', 'pastry': 'bread', 'veggie': 'vegetable', 'past': 'pasta', 'picle': 'cucumber', 'arugula': 'rucola'}\n",
    "    if word in lookup.keys():\n",
    "        return lookup[word]\n",
    "    return word\n",
    "\n",
    "for i in images[0].get_metrics()['Free']:\n",
    "    for k in i.keys():\n",
    "        for j in xrange(0, i[k]):\n",
    "            s += '%s '%(auto_correct(k))\n",
    "\n",
    "\n",
    "\n",
    "tokens = word_tokenize(s, 'english')\n",
    "plt.figure(figsize=(20, 7))\n",
    "plt.xlim(0,len(set(tokens)))\n",
    "plt.tick_params(axis='both', which='major', labelsize=20)\n",
    "plt.xlabel('Stemmed tokens')\n",
    "plt.ylabel('Frequency')\n",
    "fk = FreqDist(tokens)\n",
    "fk.plot()"
   ]
  },
  {
   "cell_type": "markdown",
   "metadata": {},
   "source": [
    "# Cleaning the data using Gold Entries"
   ]
  },
  {
   "cell_type": "code",
   "execution_count": 46,
   "metadata": {
    "collapsed": true
   },
   "outputs": [],
   "source": [
    "hit_collection1 = Collection('Id', Hit)\n",
    "hit_collection2 = Collection('Id', Hit)\n",
    "\n",
    "for x in X:\n",
    "    hit_collection1.add(x)\n",
    "\n",
    "for x in X2:\n",
    "    hit_collection2.add(x)\n",
    "\n",
    "hits1 = hit_collection1.get_collection()\n",
    "hits2 = hit_collection2.get_collection()"
   ]
  },
  {
   "cell_type": "code",
   "execution_count": 47,
   "metadata": {
    "collapsed": false
   },
   "outputs": [
    {
     "name": "stdout",
     "output_type": "stream",
     "text": [
      "[241, 179, 179, 179, 179, 178, 176, 176, 176, 172, 172, 159, 159, 151, 142, 142, 124, 78, 78, 78, 78]\n"
     ]
    }
   ],
   "source": [
    "percentiles = [0.00, 0.05, 0.10, 0.15, 0.20, 0.25, 0.30, 0.35, 0.40, 0.45, 0.50, 0.55, 0.60, 0.65, 0.70, 0.75, 0.80, 0.85, 0.90, 0.95, 1]\n",
    "\n",
    "def normalise(data):\n",
    "    minimum = 0\n",
    "    counter = max(data) - minimum\n",
    "    return [ (e - minimum)/(counter) for e in data]\n",
    "\n",
    "trust_1 = []\n",
    "trust_2 = []\n",
    "for p in percentiles:\n",
    "    trust_1.append(len([h for h in hits1 if h.get_worker_score() >= p])) \n",
    "    trust_2.append(len([h for h in hits2 if h.get_worker_score() >= p])) \n",
    "\n",
    "print trust_1\n",
    "    \n",
    "trust_1 = normalise(trust_1)\n",
    "trust_2 = normalise(trust_2)\n"
   ]
  },
  {
   "cell_type": "code",
   "execution_count": 48,
   "metadata": {
    "collapsed": false
   },
   "outputs": [
    {
     "data": {
      "image/png": "[encoded data removed]",
      "text/plain": [
       "<matplotlib.figure.Figure at 0x11265ded0>"
      ]
     },
     "metadata": {},
     "output_type": "display_data"
    }
   ],
   "source": [
    "plt.figure(figsize=(10, 5))\n",
    "line1 = plt.plot(trust_1)\n",
    "line2 = plt.plot(trust_2)\n",
    "\n",
    "\n",
    "\n",
    "plt.ylim(min(trust_1)-0.1,max(trust_1)+0.1)\n",
    "plt.xlim(0,len(trust_1))\n",
    "plt.xlabel('Trust threshold')\n",
    "plt.ylabel('Worker coverage')\n",
    "plt.xticks(xrange(0, len(trust_1)), percentiles)\n",
    "plt.axhline(y=0.75, xmin=0, xmax = len(trust_1), linewidth=1, color='grey',ls='dashed')\n",
    "plt.axhline(y=0.50, xmin=0, xmax = len(trust_1), linewidth=1, color='grey',ls='dashed')\n",
    "plt.axhline(y=0.25, xmin=0, xmax = len(trust_1), linewidth=1, color='grey',ls='dashed')\n",
    "plt.show()"
   ]
  },
  {
   "cell_type": "code",
   "execution_count": 49,
   "metadata": {
    "collapsed": false
   },
   "outputs": [
    {
     "data": {
      "image/png": "[encoded data removed]",
      "text/plain": [
       "<matplotlib.figure.Figure at 0x112edef90>"
      ]
     },
     "metadata": {},
     "output_type": "display_data"
    }
   ],
   "source": [
    "trust_diff = []\n",
    "for i in xrange(0, len(percentiles)):\n",
    "    trust_diff.append(trust_2[i] - trust_1[i])\n",
    "    \n",
    "plt.figure(figsize=(10, 5))\n",
    "line1 = plt.plot(trust_diff)\n",
    "plt.ylim(min(trust_diff)-0.1,max(trust_diff)+0.1)\n",
    "plt.xlim(0,len(trust_diff))\n",
    "plt.xlabel('Trust threshold')\n",
    "plt.ylabel('Worker coverage difference')\n",
    "plt.axhline(y=0.20, xmin=0, xmax = len(trust_1), linewidth=1, color='grey',ls='dashed')\n",
    "plt.xticks(xrange(0, len(trust_diff)), percentiles)\n",
    "plt.show()"
   ]
  },
  {
   "cell_type": "code",
   "execution_count": null,
   "metadata": {
    "collapsed": false
   },
   "outputs": [],
   "source": []
  },
  {
   "cell_type": "code",
   "execution_count": 50,
   "metadata": {
    "collapsed": false
   },
   "outputs": [
    {
     "data": {
      "text/plain": [
       "{'boxes': [<matplotlib.lines.Line2D at 0x113028290>],\n",
       " 'caps': [<matplotlib.lines.Line2D at 0x113037110>,\n",
       "  <matplotlib.lines.Line2D at 0x113037750>],\n",
       " 'fliers': [<matplotlib.lines.Line2D at 0x11303e410>],\n",
       " 'means': [],\n",
       " 'medians': [<matplotlib.lines.Line2D at 0x113037d90>],\n",
       " 'whiskers': [<matplotlib.lines.Line2D at 0x113028410>,\n",
       "  <matplotlib.lines.Line2D at 0x113028ad0>]}"
      ]
     },
     "execution_count": 50,
     "metadata": {},
     "output_type": "execute_result"
    },
    {
     "data": {
      "image/png": "[encoded data removed]",
      "text/plain": [
       "<matplotlib.figure.Figure at 0x10d35a5d0>"
      ]
     },
     "metadata": {},
     "output_type": "display_data"
    }
   ],
   "source": [
    "plt.boxplot(trust_2)"
   ]
  },
  {
   "cell_type": "code",
   "execution_count": 51,
   "metadata": {
    "collapsed": false
   },
   "outputs": [
    {
     "data": {
      "text/plain": [
       "{'boxes': [<matplotlib.lines.Line2D at 0x112b6c590>],\n",
       " 'caps': [<matplotlib.lines.Line2D at 0x112b794d0>,\n",
       "  <matplotlib.lines.Line2D at 0x112b79b10>],\n",
       " 'fliers': [<matplotlib.lines.Line2D at 0x112c887d0>],\n",
       " 'means': [],\n",
       " 'medians': [<matplotlib.lines.Line2D at 0x112c88190>],\n",
       " 'whiskers': [<matplotlib.lines.Line2D at 0x112b6c790>,\n",
       "  <matplotlib.lines.Line2D at 0x112b6ce50>]}"
      ]
     },
     "execution_count": 51,
     "metadata": {},
     "output_type": "execute_result"
    },
    {
     "data": {
      "image/png": "[encoded data removed]",
      "text/plain": [
       "<matplotlib.figure.Figure at 0x112b9af50>"
      ]
     },
     "metadata": {},
     "output_type": "display_data"
    }
   ],
   "source": [
    "plt.boxplot(trust_1)"
   ]
  },
  {
   "cell_type": "code",
   "execution_count": 52,
   "metadata": {
    "collapsed": false
   },
   "outputs": [
    {
     "data": {
      "text/plain": [
       "[1.0,\n",
       " 0.7427385892116183,\n",
       " 0.7427385892116183,\n",
       " 0.7427385892116183,\n",
       " 0.7427385892116183,\n",
       " 0.7385892116182573,\n",
       " 0.7302904564315352,\n",
       " 0.7302904564315352,\n",
       " 0.7302904564315352,\n",
       " 0.7136929460580913,\n",
       " 0.7136929460580913,\n",
       " 0.6597510373443983,\n",
       " 0.6597510373443983,\n",
       " 0.6265560165975104,\n",
       " 0.5892116182572614,\n",
       " 0.5892116182572614,\n",
       " 0.5145228215767634,\n",
       " 0.3236514522821577,\n",
       " 0.3236514522821577,\n",
       " 0.3236514522821577,\n",
       " 0.3236514522821577]"
      ]
     },
     "execution_count": 52,
     "metadata": {},
     "output_type": "execute_result"
    }
   ],
   "source": [
    "trust_1"
   ]
  },
  {
   "cell_type": "code",
   "execution_count": null,
   "metadata": {
    "collapsed": true
   },
   "outputs": [],
   "source": []
  }
 ],
 "metadata": {
  "kernelspec": {
   "display_name": "Python 2",
   "language": "python",
   "name": "python2"
  },
  "language_info": {
   "codemirror_mode": {
    "name": "ipython",
    "version": 2
   },
   "file_extension": ".py",
   "mimetype": "text/x-python",
   "name": "python",
   "nbconvert_exporter": "python",
   "pygments_lexer": "ipython2",
   "version": "2.7.11"
  }
 },
 "nbformat": 4,
 "nbformat_minor": 0
}
